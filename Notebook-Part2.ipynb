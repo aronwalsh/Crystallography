{
 "cells": [
  {
   "cell_type": "markdown",
   "metadata": {},
   "source": [
    "# Structure 1: Crystallography\n",
    "### Professor Aron Walsh, Department of Materials, Imperial College [(contact)](http://www.imperial.ac.uk/people/a.walsh)\n",
    "\n",
    "Online activities and links related to the 1st year introductory course to crystal structure (written using a [Jupyter Notebook](http://jupyter.org) hosted on [Github](https://github.com/aronwalsh/crystallography))"
   ]
  },
  {
   "cell_type": "markdown",
   "metadata": {},
   "source": [
    "# E. Crystals 1\n",
    "\n",
    "### Activity: Downloading a crystal structure file\n",
    "\n",
    "It's time to download your own structure files from the Inorganic Crystal Structure Database, which is hoted on https://www.psds.ac.uk. Note that this may be useful for future courses and reports. You need to use the Imperial vpn to access the database off-campus. Full instructions are given in the [video](http://www.youtube.com/watch?v=cR0YUKbQ-Tw).\n",
    "\n",
    "[![PSDS](Images/psds.png)](http://www.youtube.com/watch?v=cR0YUKbQ-Tw \"PSDS\")\n",
    "\n",
    "**Task:** Download a crystal structure model of FeS<sub>2</sub> (known as pyrite or Fool's gold). First open the `cif` in any text editor (Notepad is fine on windows, but for advanced users [atom](https://atom.io) is nice). Check that your understand the key information that the file contains. Then open up the structure Crystalmaker (`File` -> `Open`) to check the bond lengths and angles. \n",
    "\n",
    "### Links\n",
    "\n",
    "* [International Union of Crystallography](https://www.iucr.org/education/resources)\n",
    "\n",
    "### Advanced questions\n",
    "\n",
    "#### Q1. Explain again the factors determine the structures of binary solids?  \n",
    "\n",
    "We discussed two ways of rationalising the crystal structures formed by AB compounds.\n",
    "\n",
    "*1. Close packing of the larger ion*\n",
    "\n",
    "The majority of structure types formed by binary solids can be linked to a close-packed sub-lattice of one atom type, with the second atom filling the tetrahedral or octahedral interstitial sites. For example, rocksalt can be obtained by filling octahedral holes, while zincblende can be obtained by filling tetrahedral holes in an fcc structure.\n",
    "\n",
    "![](https://slideplayer.com/slide/10731444/37/images/18/Interstitial+Sites+in+FCC+Structure%3A.jpg)\n",
    "\n",
    "*2. Radius ratio for ionic materials*\n",
    "\n",
    "Here, the number of nearest neighbour anions (negatively charged ion) around a cation (positively charged ion) is maximised subject to the size constraints outlined in the lectures. For each structure type, a critical radius can be determined from a straightforward geometric analysis, which represents the limit where the radii of the anions touch. This is called the critical radius ratio.\n",
    "\n",
    "![](Images/radiusratio.png)"
   ]
  },
  {
   "cell_type": "markdown",
   "metadata": {},
   "source": [
    "# F. Crystals 2\n",
    "\n",
    "### Activity: Perovskites on Materials Project\n",
    "\n",
    "Last week you downloaded a structure from an experimental database (the ICSD). This week we will use the [Materials Project](https://materialsproject.org) which is a database built using computational materials science and quantum mechanics. The database is based on predicted values, which are far from exact in many cases, but can be useful for exploring structure-property relationships. Full instructions are given in the [video](https://www.youtube.com/watch?v=BzOxQGUBBME).\n",
    "\n",
    "[![MP](Images/mp.png)](https://www.youtube.com/watch?v=BzOxQGUBBME \"MP\")\n",
    "\n",
    "**Task:** Find the lowest energy perovskite-type structure of BaSnO<sub>3</sub>. Download the `cif` and open in Crystalmaker (`File` -> `Open`). Choose space-filling mode (`Model` -> `Space Filling`) apply the ionic radii of Ba (1.61 Å), Sn (0.69 Å), O (1.35 Å). Look for directions that the species are close to touching. Compare to the calculated tolerance factor for this composition.\n",
    "\n",
    "### Links\n",
    "\n",
    "* [Royal Insitution Lecture on Perovskites](https://www.youtube.com/watch?v=v9bMEUr2II4) by Mike Glazer \n",
    "\n",
    "### Perovskite Tolerance Factor"
   ]
  },
  {
   "cell_type": "code",
   "execution_count": 14,
   "metadata": {},
   "outputs": [
    {
     "name": "stdout",
     "output_type": "stream",
     "text": [
      "Populating the interactive namespace from numpy and matplotlib\n"
     ]
    },
    {
     "data": {
      "text/plain": [
       "0.9704679803019454"
      ]
     },
     "execution_count": 14,
     "metadata": {},
     "output_type": "execute_result"
    }
   ],
   "source": [
    "# Perovskite tolerance factor using Python\n",
    "%pylab inline\n",
    "\n",
    "# Shannon crystal radii from http://abulafia.mt.ic.ac.uk/shannon/ptable.php\n",
    "A = 1.48 # Ca\n",
    "B = 0.75 # Ti\n",
    "X = 1.21 # O\n",
    "\n",
    "t = (A+X)/(sqrt(2)*(B+X))\n",
    "t"
   ]
  },
  {
   "cell_type": "markdown",
   "metadata": {},
   "source": [
    "# G. Introduction to Diffraction\n",
    "\n",
    "### Links\n",
    "\n",
    "* [Diffraction (interactive animations)](https://www.doitpoms.ac.uk/tlplib/xray-diffraction/index.php)\n",
    "* [Celebrating crystallography animation (3 min)](https://www.youtube.com/watch?time_continue=157&v=uqQlwYv8VQI)\n",
    "* [Royal Insitution Lecture on Crystallography (62 min)](https://www.youtube.com/watch?time_continue=653&v=gBxZVF3s4cU)\n",
    "* [Royal Insitution Documentary on the Braggs (45 min)](https://www.youtube.com/watch?v=a-jE7BM902Q)\n",
    "* [Useful unit converter](http://sjbyrnes.com/convert.html)\n",
    "\n",
    "### Simple calculations"
   ]
  },
  {
   "cell_type": "code",
   "execution_count": 2,
   "metadata": {},
   "outputs": [
    {
     "name": "stdout",
     "output_type": "stream",
     "text": [
      "Populating the interactive namespace from numpy and matplotlib\n",
      "energy 8000 eV -->  wavelength 1.5498024673276163 Angstrom\n"
     ]
    }
   ],
   "source": [
    "# Energy to wavelength conversion using Python\n",
    "%pylab inline\n",
    "import scipy.constants as sc\n",
    "\n",
    "h=sc.value(u'Planck constant in eV s')  # eV/s\n",
    "c=sc.value(u'speed of light in vacuum') # m/s\n",
    "\n",
    "eV = 8000 # eV\n",
    "wav = (h*c)/eV # m\n",
    "print (\"energy\", eV, \"eV --> \", \"wavelength\", wav*1E10, \"Angstrom\") "
   ]
  },
  {
   "cell_type": "code",
   "execution_count": 3,
   "metadata": {},
   "outputs": [
    {
     "name": "stdout",
     "output_type": "stream",
     "text": [
      "Populating the interactive namespace from numpy and matplotlib\n",
      "Spacing is 1.8475208614068026 Angstrom\n"
     ]
    }
   ],
   "source": [
    "# Calculate d_hkl spacing for orthorhombic lattice using Python\n",
    "%pylab inline\n",
    "\n",
    "h = 1\n",
    "k = 1\n",
    "l = 1\n",
    "\n",
    "a = 3.2\n",
    "b = 3.2\n",
    "c = 3.2\n",
    "\n",
    "x = (h*h)/(a*a) + (k*k)/(b*b) + (l*l)/(c*c)\n",
    "d = sqrt(1/x)\n",
    "\n",
    "print (\"Spacing is\", d, \"Angstrom\")"
   ]
  },
  {
   "cell_type": "code",
   "execution_count": 4,
   "metadata": {},
   "outputs": [
    {
     "name": "stdout",
     "output_type": "stream",
     "text": [
      "Bragg angle is 24.64136460023482 degrees\n",
      "Diffraction angle is 49.28272920046964 degrees\n"
     ]
    }
   ],
   "source": [
    "# Solve Bragg's Law using Python\n",
    "\n",
    "# 2dsinθ = nλ\n",
    "# use d-spacing from above cell\n",
    "\n",
    "# function: radians -> degrees\n",
    "def Asin(a):\n",
    "    return math.degrees(math.asin(a))\n",
    "\n",
    "λ = 1.5406 # X-ray wavelength in A\n",
    "\n",
    "s = λ/(2*d)\n",
    "angle = Asin(s)\n",
    "\n",
    "print (\"Bragg angle is\", angle, \"degrees\")\n",
    "print (\"Diffraction angle is\", 2*angle, \"degrees\")"
   ]
  },
  {
   "cell_type": "markdown",
   "metadata": {},
   "source": [
    "# Advanced Links\n",
    "\n",
    "### Visualisation Software\n",
    "\n",
    "| Name        | Link        | Comment  |\n",
    "| ----------- | ----------- | -------- |\n",
    "| CRYSTALWALK | http://crystalwalk.herokuapp.com | Useful learning tool with no installation required |\n",
    "| CRYSTALMAKER     | http://www.crystalmaker.com | Paid, but with Departmental license |\n",
    "| VESTA       | http://jp-minerals.org/vesta/en/ | Free, fast, cross-platform (better for crystals) |\n",
    "| AVOGADRO    | http://avogadro.cc | Free, fast, cross-platform (better for molecules) |\n",
    "| BLENDER     | https://www.blender.org | Steep learning curve, but beautiful ray-traced images |\n",
    "\n",
    "### National Structure Facilities\n",
    "| Name        | Link        | Comment  |\n",
    "| ----------- | ----------- | -------- |\n",
    "| Spring8 | https://www.youtube.com/user/spring8channel | Kyoto, Japan |\n",
    "| SLAC | https://www.youtube.com/channel/UCKzqyRUej9BI5dhdjwF09vQ | California, USA | \n",
    "| Diamond | https://www.youtube.com/user/DiamondLightSource | Harwell, UK |\n",
    "| ESRF | https://www.youtube.com/channel/UC6wrGV-8evsewfCpVnYv2sw | Grenoble, France |\n",
    "\n",
    "### Tools\n",
    "\n",
    "| Name        | Link        | Comment  |\n",
    "| ----------- | ----------- | -------- |\n",
    "| Bilbao Crystallographic Server | http://www.cryst.ehu.es | Symmetry, space groups, and beyond |\n",
    "| Spglib | https://atztogo.github.io/spglib/ | A C library for crystal symmetry | \n",
    "| SHELX | http://shelx.uni-ac.gwdg.de/SHELX/ | Research tool for solving X-ray structures |\n",
    "| Crystallography Symmetry Database | http://it.iucr.org/resources/symmetrydatabase/ | Extensive symmetry information |"
   ]
  },
  {
   "cell_type": "code",
   "execution_count": null,
   "metadata": {},
   "outputs": [],
   "source": []
  }
 ],
 "metadata": {
  "kernelspec": {
   "display_name": "Python 3",
   "language": "python",
   "name": "python3"
  },
  "language_info": {
   "codemirror_mode": {
    "name": "ipython",
    "version": 3
   },
   "file_extension": ".py",
   "mimetype": "text/x-python",
   "name": "python",
   "nbconvert_exporter": "python",
   "pygments_lexer": "ipython3",
   "version": "3.8.5"
  }
 },
 "nbformat": 4,
 "nbformat_minor": 4
}
